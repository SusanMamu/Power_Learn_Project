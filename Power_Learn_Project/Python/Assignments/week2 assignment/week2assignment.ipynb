{
 "cells": [
  {
   "cell_type": "markdown",
   "metadata": {},
   "source": [
    "1. Create an empty list called my_list.\n",
    "2. Append the following elements to my_list: 10, 20, 30, 40.\n",
    "3. Insert the value 15 at the second position in the list.\n",
    "4. Extend my_list with another list: [50, 60, 70].\n",
    "5. Remove the last element from my_list.\n",
    "6. Sort my_list in ascending order.\n",
    "7. Find and print the index of the value 30 in my_list."
   ]
  },
  {
   "cell_type": "code",
   "execution_count": 13,
   "metadata": {},
   "outputs": [
    {
     "name": "stdout",
     "output_type": "stream",
     "text": [
      "Index of 30 in my_list: 3\n",
      "my_list after operations: [10, 15, 20, 30, 40, 50, 60]\n"
     ]
    }
   ],
   "source": [
    "# 1. Create an empty list called my_list.\n",
    "my_list = []\n",
    "\n",
    "# 2. Append the following elements to my_list: 10, 20, 30, 40.\n",
    "my_list.extend([10, 20, 30, 40])\n",
    "\n",
    "# 3. Insert the value 15 at the second position in the list.\n",
    "my_list.insert(1, 15)\n",
    "\n",
    "# 4. Extend my_list with another list: [50, 60, 70].\n",
    "my_list.extend([50, 60, 70])\n",
    "\n",
    "# 5. Remove the last element from my_list.\n",
    "my_list.pop()\n",
    "\n",
    "# 6. Sort my_list in ascending order.\n",
    "my_list.sort()\n",
    "\n",
    "# 7. Find and print the index of the value 30 in my_list.\n",
    "index_30 = my_list.index(30)\n",
    "print(\"Index of 30 in my_list:\", index_30)\n",
    "\n",
    "# Print my_list to see the result after all operations.\n",
    "print(\"my_list after operations:\", my_list)\n"
   ]
  },
  {
   "cell_type": "code",
   "execution_count": null,
   "metadata": {},
   "outputs": [],
   "source": []
  }
 ],
 "metadata": {
  "kernelspec": {
   "display_name": "Python 3",
   "language": "python",
   "name": "python3"
  },
  "language_info": {
   "codemirror_mode": {
    "name": "ipython",
    "version": 3
   },
   "file_extension": ".py",
   "mimetype": "text/x-python",
   "name": "python",
   "nbconvert_exporter": "python",
   "pygments_lexer": "ipython3",
   "version": "3.12.1"
  }
 },
 "nbformat": 4,
 "nbformat_minor": 2
}
