{
 "cells": [
  {
   "cell_type": "markdown",
   "metadata": {},
   "source": [
    "3. Wriye a program that uses a dictionary to store information abour a person such as their name,age, and favourite color.Ask the user for input and store the information in the dictionary.Then print the dictionary to the console."
   ]
  },
  {
   "cell_type": "code",
   "execution_count": 2,
   "metadata": {},
   "outputs": [
    {
     "name": "stdout",
     "output_type": "stream",
     "text": [
      "\n",
      "Person's Information:\n",
      "Name: susan\n",
      "Age: 25\n",
      "Favorite_color: pink\n"
     ]
    }
   ],
   "source": [
    "def main():\n",
    "    # Create an empty dictionary to store person's information\n",
    "    person_info = {}\n",
    "\n",
    "    # Ask the user for input and store the information in the dictionary\n",
    "    person_info['name'] = input(\"Enter your name: \")\n",
    "    person_info['age'] = input(\"Enter your age: \")\n",
    "    person_info['favorite_color'] = input(\"Enter your favorite color: \")\n",
    "\n",
    "    # Print the dictionary to the console\n",
    "    print(\"\\nPerson's Information:\")\n",
    "    for key, value in person_info.items():\n",
    "        print(f\"{key.capitalize()}: {value}\")\n",
    "\n",
    "if __name__ == \"__main__\":\n",
    "    main()\n"
   ]
  },
  {
   "cell_type": "code",
   "execution_count": null,
   "metadata": {},
   "outputs": [],
   "source": []
  }
 ],
 "metadata": {
  "kernelspec": {
   "display_name": "Python 3",
   "language": "python",
   "name": "python3"
  },
  "language_info": {
   "codemirror_mode": {
    "name": "ipython",
    "version": 3
   },
   "file_extension": ".py",
   "mimetype": "text/x-python",
   "name": "python",
   "nbconvert_exporter": "python",
   "pygments_lexer": "ipython3",
   "version": "3.12.1"
  }
 },
 "nbformat": 4,
 "nbformat_minor": 2
}
