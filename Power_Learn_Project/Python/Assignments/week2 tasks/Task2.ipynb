{
 "cells": [
  {
   "cell_type": "markdown",
   "metadata": {},
   "source": [
    "2. Create a tuple containing the names of five of your favourite books.Then use a for loop to print each book name on a separate line."
   ]
  },
  {
   "cell_type": "code",
   "execution_count": 2,
   "metadata": {},
   "outputs": [
    {
     "name": "stdout",
     "output_type": "stream",
     "text": [
      "My favourite books: \n",
      "The 5am club\n",
      "Pride and prejudice\n",
      "Catch-22\n",
      "Littel women\n",
      "Great expectations\n"
     ]
    }
   ],
   "source": [
    "favourite_books = (\"The 5am club\", \"Pride and prejudice\", \"Catch-22\", \"Littel women\", \"Great expectations\")\n",
    "print(\"My favourite books: \")\n",
    "for book in favourite_books:\n",
    "    print(book)"
   ]
  },
  {
   "cell_type": "markdown",
   "metadata": {},
   "source": [
    "books"
   ]
  }
 ],
 "metadata": {
  "kernelspec": {
   "display_name": "Python 3",
   "language": "python",
   "name": "python3"
  },
  "language_info": {
   "codemirror_mode": {
    "name": "ipython",
    "version": 3
   },
   "file_extension": ".py",
   "mimetype": "text/x-python",
   "name": "python",
   "nbconvert_exporter": "python",
   "pygments_lexer": "ipython3",
   "version": "3.12.1"
  }
 },
 "nbformat": 4,
 "nbformat_minor": 2
}
