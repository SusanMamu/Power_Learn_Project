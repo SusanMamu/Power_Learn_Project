{
 "cells": [
  {
   "cell_type": "markdown",
   "metadata": {},
   "source": [
    "4. Create a program that stores a list of words. Then use list comprehension to create a new list that contains only the words that have an odd number of characters"
   ]
  },
  {
   "cell_type": "code",
   "execution_count": 1,
   "metadata": {},
   "outputs": [
    {
     "name": "stdout",
     "output_type": "stream",
     "text": [
      "Words with odd number of characters: ['apple', 'grape', 'pineapple']\n"
     ]
    }
   ],
   "source": [
    "def main():\n",
    "    # Store a list of words\n",
    "    word_list = [\"apple\", \"banana\", \"orange\", \"kiwi\", \"grape\", \"pineapple\", \"watermelon\", \"strawberry\"]\n",
    "\n",
    "    # Use list comprehension to create a new list containing only the words with odd number of characters\n",
    "    odd_length_words = [word for word in word_list if len(word) % 2 != 0]\n",
    "\n",
    "    # Print the new list\n",
    "    print(\"Words with odd number of characters:\", odd_length_words)\n",
    "\n",
    "if __name__ == \"__main__\":\n",
    "    main()\n"
   ]
  },
  {
   "cell_type": "code",
   "execution_count": null,
   "metadata": {},
   "outputs": [],
   "source": []
  }
 ],
 "metadata": {
  "kernelspec": {
   "display_name": "Python 3",
   "language": "python",
   "name": "python3"
  },
  "language_info": {
   "codemirror_mode": {
    "name": "ipython",
    "version": 3
   },
   "file_extension": ".py",
   "mimetype": "text/x-python",
   "name": "python",
   "nbconvert_exporter": "python",
   "pygments_lexer": "ipython3",
   "version": "3.12.1"
  }
 },
 "nbformat": 4,
 "nbformat_minor": 2
}
