{
 "cells": [
  {
   "cell_type": "markdown",
   "metadata": {},
   "source": [
    "1. Write a program that accepts user input to create a list of integers.Then, compute the sum of all integers in the list"
   ]
  },
  {
   "cell_type": "code",
   "execution_count": 3,
   "metadata": {},
   "outputs": [
    {
     "name": "stdout",
     "output_type": "stream",
     "text": [
      "List of integers entered: [1, 2, 3, 4, 5, 6]\n",
      "The sum of the integers is: 21\n"
     ]
    }
   ],
   "source": [
    "def main():\n",
    "    # Accept user input to create a list of integers\n",
    "    user_input = input(\"Enter a list of integers separated by spaces: \")\n",
    "    nums = [int(num) for num in user_input.split()]  # List comprehension\n",
    "\n",
    "    # Print the list of integers entered by the user\n",
    "    print(\"List of integers entered:\", nums)\n",
    "\n",
    "    # Compute the sum of all integers in the list\n",
    "    total_sum = sum(nums)\n",
    "\n",
    "    # Print the sum of the integers\n",
    "    print(\"The sum of the integers is:\", total_sum)\n",
    "\n",
    "if __name__ == \"__main__\":\n",
    "    main()\n",
    "\n"
   ]
  },
  {
   "cell_type": "markdown",
   "metadata": {},
   "source": []
  }
 ],
 "metadata": {
  "kernelspec": {
   "display_name": "Python 3",
   "language": "python",
   "name": "python3"
  },
  "language_info": {
   "codemirror_mode": {
    "name": "ipython",
    "version": 3
   },
   "file_extension": ".py",
   "mimetype": "text/x-python",
   "name": "python",
   "nbconvert_exporter": "python",
   "pygments_lexer": "ipython3",
   "version": "3.12.1"
  }
 },
 "nbformat": 4,
 "nbformat_minor": 2
}
