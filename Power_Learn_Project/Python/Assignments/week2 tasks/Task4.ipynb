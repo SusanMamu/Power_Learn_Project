{
 "cells": [
  {
   "cell_type": "markdown",
   "metadata": {},
   "source": [
    "4. Write a program that accepts user input to create two sets of integers.Then create a new set that contains only the elements that are common to both sets"
   ]
  },
  {
   "cell_type": "code",
   "execution_count": 2,
   "metadata": {},
   "outputs": [
    {
     "name": "stdout",
     "output_type": "stream",
     "text": [
      "Items in the first set: {34, 12, 78, 56, 90}\n",
      "Items in the second set: {34, 12, 90, 78}\n",
      "Common elements in both sets: {34, 12, 90, 78}\n"
     ]
    }
   ],
   "source": [
    "def main():\n",
    "    # Accept user input to create the first set of integers\n",
    "    set1_input = input(\"Enter integers separated by spaces for the first set: \")\n",
    "    set1 = set(map(int, set1_input.split()))\n",
    "\n",
    "    # Accept user input to create the second set of integers\n",
    "    set2_input = input(\"Enter integers separated by spaces for the second set: \")\n",
    "    set2 = set(map(int, set2_input.split()))\n",
    "\n",
    "    # List items for the first set\n",
    "    print(\"Items in the first set:\", set1)\n",
    "\n",
    "    # List items for the second set\n",
    "    print(\"Items in the second set:\", set2)\n",
    "\n",
    "    # Create a new set containing only the elements that are common to both sets\n",
    "    common_elements = set1.intersection(set2)\n",
    "\n",
    "    # Print the new set\n",
    "    print(\"Common elements in both sets:\", common_elements)\n",
    "\n",
    "if __name__ == \"__main__\":\n",
    "    main()\n"
   ]
  },
  {
   "cell_type": "code",
   "execution_count": null,
   "metadata": {},
   "outputs": [],
   "source": []
  },
  {
   "cell_type": "code",
   "execution_count": null,
   "metadata": {},
   "outputs": [],
   "source": []
  }
 ],
 "metadata": {
  "kernelspec": {
   "display_name": "Python 3",
   "language": "python",
   "name": "python3"
  },
  "language_info": {
   "codemirror_mode": {
    "name": "ipython",
    "version": 3
   },
   "file_extension": ".py",
   "mimetype": "text/x-python",
   "name": "python",
   "nbconvert_exporter": "python",
   "pygments_lexer": "ipython3",
   "version": "3.12.1"
  }
 },
 "nbformat": 4,
 "nbformat_minor": 2
}
